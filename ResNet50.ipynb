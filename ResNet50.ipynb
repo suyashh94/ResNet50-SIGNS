{
 "cells": [
  {
   "cell_type": "code",
   "execution_count": 26,
   "metadata": {},
   "outputs": [],
   "source": [
    "import numpy as np\n",
    "from keras import layers\n",
    "from keras.layers import Input, Add, Dense, Activation, ZeroPadding2D, BatchNormalization, Flatten, Conv2D, AveragePooling2D, MaxPooling2D, GlobalMaxPooling2D\n",
    "from keras.models import Model, load_model\n",
    "from keras.preprocessing import image\n",
    "from keras.utils import layer_utils\n",
    "from keras.utils.data_utils import get_file\n",
    "from keras.applications.imagenet_utils import preprocess_input\n",
    "import pydot\n",
    "from IPython.display import SVG\n",
    "from keras.utils.vis_utils import model_to_dot\n",
    "from keras.utils import plot_model\n",
    "from keras.initializers import glorot_uniform\n",
    "import scipy.misc\n",
    "from matplotlib.pyplot import imshow\n",
    "%matplotlib inline\n",
    "\n",
    "import keras.backend as K\n",
    "K.set_image_data_format('channels_last')\n",
    "K.set_learning_phase(1)"
   ]
  },
  {
   "cell_type": "code",
   "execution_count": 27,
   "metadata": {},
   "outputs": [],
   "source": [
    "import os\n",
    "import numpy as np\n",
    "import tensorflow as tf\n",
    "import h5py\n",
    "import math\n",
    "\n",
    "def load_dataset():\n",
    "    train_dataset = h5py.File(r'C:\\Users\\harla\\Desktop\\Jupyter Notebooks\\ResNet\\Dataset\\signs\\train_signs.h5', \"r\")\n",
    "    train_set_x_orig = np.array(train_dataset[\"train_set_x\"][:]) # your train set features\n",
    "    train_set_y_orig = np.array(train_dataset[\"train_set_y\"][:]) # your train set labels\n",
    "\n",
    "    test_dataset = h5py.File(r'C:\\Users\\harla\\Desktop\\Jupyter Notebooks\\ResNet\\Dataset\\signs\\test_signs.h5', \"r\")\n",
    "    test_set_x_orig = np.array(test_dataset[\"test_set_x\"][:]) # your test set features\n",
    "    test_set_y_orig = np.array(test_dataset[\"test_set_y\"][:]) # your test set labels\n",
    "\n",
    "    classes = np.array(test_dataset[\"list_classes\"][:]) # the list of classes\n",
    "    \n",
    "    train_set_y_orig = train_set_y_orig.reshape((1, train_set_y_orig.shape[0]))\n",
    "    test_set_y_orig = test_set_y_orig.reshape((1, test_set_y_orig.shape[0]))\n",
    "    \n",
    "    return train_set_x_orig, train_set_y_orig, test_set_x_orig, test_set_y_orig, classes\n"
   ]
  },
  {
   "cell_type": "markdown",
   "metadata": {},
   "source": [
    "# Identity block \n",
    "\n",
    "In this block, input activation (say $a^{[l]}$) has the same dimension as the output activation (say $a^{[l+2]}$). Here is a diagram illustrating how this works:\n",
    "\n",
    "<img src=\"files\\images\\idblock2_kiank.png\" style=\"width:650px;height:150px;\">\n",
    "<caption><center> <u> <font color='purple'> **Figure 1** </u><font color='purple'>  : **Identity block.** Skip connection \"skips over\" 2 layers. </center></caption>\n",
    "\n",
    "The upper path is the shortcut path through which the activation in the previous layers \"skips\" through and is added and is added to the output of the main path before the non-linearity computation. \n",
    "\n",
    "Here, I have performed skipping over 3 hidden layers rather than just 2 which is described in the figure below. \n",
    "<img src=\"files\\images\\idblock3_kiank.png\" style=\"width:650px;height:150px;\">\n",
    "<caption><center> <u> <font color='purple'> **Figure 2** </u><font color='purple'>  : **Identity block.** Skip connection \"skips over\" 3 layers. </center></caption>"
   ]
  },
  {
   "cell_type": "code",
   "execution_count": 3,
   "metadata": {},
   "outputs": [],
   "source": [
    "# Implementation of Identity Block\n",
    "\n",
    "def identity_block(X, f, filters, stage, block):\n",
    "    \"\"\"\n",
    "    Implementation of the identity block as defined in Figure 3\n",
    "    \n",
    "    Arguments:\n",
    "    X -- input tensor of shape (m, n_H_prev, n_W_prev, n_C_prev)\n",
    "    f -- integer, specifying the shape of the middle CONV's window for the main path\n",
    "    filters -- python list of integers, defining the number of filters in the CONV layers of the main path\n",
    "    stage -- integer, used to name the layers, depending on their position in the network\n",
    "    block -- string/character, used to name the layers, depending on their position in the network\n",
    "    \n",
    "    Returns:\n",
    "    X -- output of the identity block, tensor of shape (n_H, n_W, n_C)\n",
    "    \"\"\"\n",
    "    \n",
    "    # defining name basis\n",
    "    conv_name_base = 'res' + str(stage) + block + '_branch'\n",
    "    bn_name_base = 'bn' + str(stage) + block + '_branch'\n",
    "    \n",
    "    # Retrieve Filters\n",
    "    F1, F2, F3 = filters\n",
    "    \n",
    "    # Save the input value. You'll need this later to add back to the main path. \n",
    "    X_shortcut = X\n",
    "    \n",
    "    # First component of main path\n",
    "    X = Conv2D(filters = F1, kernel_size = (1, 1), strides = (1,1), padding = 'valid', name = conv_name_base + '2a', kernel_initializer = glorot_uniform())(X)\n",
    "    X = BatchNormalization(axis = 3, name = bn_name_base + '2a')(X)\n",
    "    X = Activation('relu')(X)\n",
    "        \n",
    "    # Second component of main path (≈3 lines)\n",
    "    X = Conv2D(filters = F2, kernel_size = (f,f), strides = (1,1), padding = 'same', name = conv_name_base + '2b',kernel_initializer = glorot_uniform())(X)\n",
    "    X = BatchNormalization(axis = 3, name = bn_name_base + '2b')(X)\n",
    "    X = Activation('relu')(X)\n",
    "\n",
    "    # Third component of main path (≈2 lines)\n",
    "    X = Conv2D(filters = F3, kernel_size = (1,1), strides = (1,1) ,padding = 'valid', name = conv_name_base + '2c', kernel_initializer = glorot_uniform())(X)\n",
    "    X = BatchNormalization(axis = 3, name = bn_name_base + '2c')(X)\n",
    "\n",
    "    # Final step: Add shortcut value to main path, and pass it through a RELU activation (≈2 lines)\n",
    "    X = Add()([X,X_shortcut])\n",
    "    X = Activation('relu')(X)\n",
    "   \n",
    "    \n",
    "    return X"
   ]
  },
  {
   "cell_type": "markdown",
   "metadata": {},
   "source": [
    "# Convolution Block\n",
    "\n",
    "This block is different from the identity block in the sense that in shotcut step, convolution is used. This is to map the inout of the block to have same dimension as the output of the block, so that the two can be added, before applying the non-linearity step. The figure below explains how this block works. \n",
    "\n",
    "<img src=\"files\\images\\convblock_kiank.png\" style=\"width:650px;height:150px;\">\n",
    "<caption><center> <u> <font color='purple'> **Figure 3** </u><font color='purple'>  : **Convolutional block** </center></caption>\n",
    "    "
   ]
  },
  {
   "cell_type": "code",
   "execution_count": 4,
   "metadata": {},
   "outputs": [],
   "source": [
    "def convolutional_block(X, f, filters, stage, block, s = 2):\n",
    "    \"\"\"\n",
    "    Implementation of the convolutional block as defined in Figure 4\n",
    "    \n",
    "    Arguments:\n",
    "    X -- input tensor of shape (m, n_H_prev, n_W_prev, n_C_prev)\n",
    "    f -- integer, specifying the shape of the middle CONV's window for the main path\n",
    "    filters -- python list of integers, defining the number of filters in the CONV layers of the main path\n",
    "    stage -- integer, used to name the layers, depending on their position in the network\n",
    "    block -- string/character, used to name the layers, depending on their position in the network\n",
    "    s -- Integer, specifying the stride to be used\n",
    "    \n",
    "    Returns:\n",
    "    X -- output of the convolutional block, tensor of shape (n_H, n_W, n_C)\n",
    "    \"\"\"\n",
    "    \n",
    "    # defining name basis\n",
    "    conv_name_base = 'res' + str(stage) + block + '_branch'\n",
    "    bn_name_base = 'bn' + str(stage) + block + '_branch'\n",
    "    \n",
    "    # Retrieve Filters\n",
    "    F1, F2, F3 = filters\n",
    "    \n",
    "    # Save the input value\n",
    "    X_shortcut = X\n",
    "\n",
    "    ##### MAIN PATH #####\n",
    "    # First component of main path \n",
    "    X = Conv2D(F1, (1, 1), strides = (s,s), name = conv_name_base + '2a', kernel_initializer = glorot_uniform())(X)\n",
    "    X = BatchNormalization(axis = 3, name = bn_name_base + '2a')(X)\n",
    "    X = Activation('relu')(X)\n",
    "    \n",
    "    # Second component of main path (≈3 lines)\n",
    "    X = Conv2D(F2, (f, f), strides = (1,1), name = conv_name_base + '2b', kernel_initializer = glorot_uniform(), padding=\"same\")(X)\n",
    "    X = BatchNormalization(axis = 3, name = bn_name_base + '2b')(X)\n",
    "    X = Activation('relu')(X)\n",
    "    \n",
    "    # Third component of main path (≈2 lines)\n",
    "    X = Conv2D(F3, (1, 1), strides = (1,1), name = conv_name_base + '2c', kernel_initializer = glorot_uniform())(X)\n",
    "    X = BatchNormalization(axis = 3, name = bn_name_base + '2c')(X)\n",
    "\n",
    "    ##### SHORTCUT PATH #### (≈2 lines)\n",
    "    X_shortcut = Conv2D(F3, (1, 1), strides = (s,s), name = conv_name_base + '1', kernel_initializer = glorot_uniform())(X_shortcut)\n",
    "    X_shortcut = BatchNormalization(axis = 3, name = bn_name_base + '1')(X_shortcut)\n",
    "\n",
    "    # Final step: Add shortcut value to main path, and pass it through a RELU activation (≈2 lines)\n",
    "    X = Add()([X, X_shortcut])\n",
    "    X = Activation('relu')(X)\n",
    "    \n",
    "    return X"
   ]
  },
  {
   "cell_type": "markdown",
   "metadata": {},
   "source": [
    "# ResNet 50\n",
    "\n",
    "In this part, multiple identity and convolutional blocks have been implemented to map the architecture of ResNet50. The figure below shows how this assembly has been carried out. \n",
    "\n",
    "<img src=\"files\\images\\resnet_kiank.png\" style=\"width:850px;height:150px;\">\n",
    "<caption><center> <u> <font color='purple'> **Figure 4** </u><font color='purple'>  : **ResNet-50 model** </center></caption>"
   ]
  },
  {
   "cell_type": "code",
   "execution_count": 5,
   "metadata": {},
   "outputs": [],
   "source": [
    "def ResNet50(input_shape = (64, 64, 3), classes = 6):\n",
    "    \"\"\"\n",
    "    Implementation of the popular ResNet50 the following architecture:\n",
    "    CONV2D -> BATCHNORM -> RELU -> MAXPOOL -> CONVBLOCK -> IDBLOCK*2 -> CONVBLOCK -> IDBLOCK*3\n",
    "    -> CONVBLOCK -> IDBLOCK*5 -> CONVBLOCK -> IDBLOCK*2 -> AVGPOOL -> TOPLAYER\n",
    "\n",
    "    Arguments:\n",
    "    input_shape -- shape of the images of the dataset\n",
    "    classes -- integer, number of classes\n",
    "\n",
    "    Returns:\n",
    "    model -- a Model() instance in Keras\n",
    "    \"\"\"\n",
    "    \n",
    "    # Define the input as a tensor with shape input_shape\n",
    "    X_input = Input(input_shape)\n",
    "\n",
    "    \n",
    "    # Zero-Padding\n",
    "    X = ZeroPadding2D((3, 3))(X_input)\n",
    "    \n",
    "    # Stage 1\n",
    "    X = Conv2D(64, (7, 7), strides = (2, 2), name = 'conv1', kernel_initializer = glorot_uniform(seed=0))(X)\n",
    "    X = BatchNormalization(axis = 3, name = 'bn_conv1')(X)\n",
    "    X = Activation('relu')(X)\n",
    "    X = MaxPooling2D((3, 3), strides=(2, 2))(X)\n",
    "\n",
    "    # Stage 2\n",
    "    X = convolutional_block(X, f = 3, filters = [64, 64, 256], stage = 2, block='a', s = 1)\n",
    "    X = identity_block(X, 3, [64, 64, 256], stage=2, block='b')\n",
    "    X = identity_block(X, 3, [64, 64, 256], stage=2, block='c')\n",
    "\n",
    "    ### START CODE HERE ###\n",
    "\n",
    "    # Stage 3 (≈4 lines)\n",
    "    X = convolutional_block(X,f=3, filters = [128, 128, 512], stage = 3, block = 'a', s =2)\n",
    "    X = identity_block(X,3,[128, 128, 512], stage = 3, block = 'b')\n",
    "    X = identity_block(X,3,[128,128,512], stage = 3, block = 'c')\n",
    "    X = identity_block(X,3,[128,128,512], stage = 3, block = 'd')\n",
    "\n",
    "    # Stage 4 (≈6 lines)\n",
    "    X = convolutional_block(X,f=3, filters = [256, 256, 1024], stage = 4, block = 'a', s =2)\n",
    "    X = identity_block(X,3,[256, 256, 1024], stage = 4, block = 'b')\n",
    "    X = identity_block(X,3,[256, 256, 1024], stage = 4, block = 'c')\n",
    "    X = identity_block(X,3,[256, 256, 1024], stage = 4, block = 'd')\n",
    "    X = identity_block(X,3,[256, 256, 1024], stage = 4, block = 'e')\n",
    "    X = identity_block(X,3,[256, 256, 1024], stage = 4, block = 'f')\n",
    "\n",
    "    # Stage 5 (≈3 lines)\n",
    "    X = convolutional_block(X,f=3, filters = [512, 512, 2048], stage = 5, block = 'a', s =2) \n",
    "    X = identity_block(X,3,[512, 512, 2048], stage = 5, block = 'b')\n",
    "    X = identity_block(X,3,[512, 512, 2048], stage = 5, block = 'c')\n",
    "\n",
    "    # AVGPOOL (≈1 line). Use \"X = AveragePooling2D(...)(X)\"\n",
    "    X = AveragePooling2D((2,2))(X)\n",
    "    \n",
    "    ### END CODE HERE ###\n",
    "\n",
    "    # FC1 layer\n",
    "    X = Flatten()(X)\n",
    "    X = Dense(512,name = 'fc1')(X)\n",
    "    X = Activation('relu')(X)\n",
    "    X = Dropout(0.5)(X)\n",
    "    \n",
    "    # FC2 layer\n",
    "    X = Flatten()(X)\n",
    "    X = Dense(128,name = 'fc2')(X)\n",
    "    X = Activation('relu')(X)\n",
    "    X = Dropout(0.5)(X)\n",
    "    \n",
    "    # Output layer\n",
    "    X = Dense(classes, activation='softmax', name='fc' + str(classes), kernel_initializer = glorot_uniform(seed=0))(X)\n",
    "    \n",
    "    \n",
    "    # Create model\n",
    "    model = Model(inputs = X_input, outputs = X, name='ResNet50')\n",
    "\n",
    "    return model"
   ]
  },
  {
   "cell_type": "code",
   "execution_count": 6,
   "metadata": {},
   "outputs": [
    {
     "name": "stdout",
     "output_type": "stream",
     "text": [
      "WARNING:tensorflow:From C:\\Users\\harla\\Anaconda3\\lib\\site-packages\\tensorflow\\python\\framework\\op_def_library.py:263: colocate_with (from tensorflow.python.framework.ops) is deprecated and will be removed in a future version.\n",
      "Instructions for updating:\n",
      "Colocations handled automatically by placer.\n"
     ]
    }
   ],
   "source": [
    "model = ResNet50(input_shape = (64,64, 3), classes = 6)   # This dimension depends on input"
   ]
  },
  {
   "cell_type": "code",
   "execution_count": 7,
   "metadata": {},
   "outputs": [],
   "source": [
    "x_train, y_train, x_test, y_test, classes = load_dataset()\n",
    "y_train = y_train.T\n",
    "y_test = y_test.T"
   ]
  },
  {
   "cell_type": "code",
   "execution_count": 8,
   "metadata": {},
   "outputs": [
    {
     "name": "stdout",
     "output_type": "stream",
     "text": [
      "Shape of training set : (1080, 64, 64, 3)\n",
      "shape of test set : (120, 64, 64, 3)\n",
      "shape of training_labels: (1080, 1)\n",
      "shape of test labels: (120, 1)\n",
      "Number of training samples =  1080\n",
      "Number of test samples =  120\n"
     ]
    }
   ],
   "source": [
    "# Print shape of training and test datasets\n",
    "print('Shape of training set :' ,x_train.shape)\n",
    "print('shape of test set :', x_test.shape )\n",
    "print('shape of training_labels:', y_train.shape)\n",
    "print('shape of test labels:', y_test.shape)\n",
    "print('Number of training samples = ', x_train.shape[0])\n",
    "print('Number of test samples = ', x_test.shape[0])"
   ]
  },
  {
   "cell_type": "code",
   "execution_count": 9,
   "metadata": {},
   "outputs": [],
   "source": [
    "model.compile(optimizer = 'adam', loss = 'sparse_categorical_crossentropy', metrics = ['accuracy'])"
   ]
  },
  {
   "cell_type": "code",
   "execution_count": 10,
   "metadata": {},
   "outputs": [
    {
     "name": "stdout",
     "output_type": "stream",
     "text": [
      "This image is of class:  [2]\n"
     ]
    },
    {
     "data": {
      "image/png": "[encoded data removed]",
      "text/plain": [
       "<Figure size 432x288 with 1 Axes>"
      ]
     },
     "metadata": {
      "needs_background": "light"
     },
     "output_type": "display_data"
    }
   ],
   "source": [
    "# Visualize  training set \n",
    "training_sample = 4;                # Change this to any value between 0 to 49999 and see how different training images look like\n",
    "myImage = x_train[training_sample,:,:,:];\n",
    "imshow(myImage)\n",
    "print('This image is of class: ' , y_train[training_sample])"
   ]
  },
  {
   "cell_type": "code",
   "execution_count": 11,
   "metadata": {},
   "outputs": [],
   "source": [
    "# Normalizing the train and test set\n",
    "x_train = x_train/255;\n",
    "x_test = (x_test)/255;\n",
    "# Subtracting pixel mean\n",
    "#subtract_pixel_mean = True\n",
    "\n",
    "#if subtract_pixel_mean:\n",
    " #   x_train_mean = np.mean(x_train, axis=0)\n",
    "  #  x_train -= x_train_mean\n",
    "   # x_test -= x_train_mean"
   ]
  },
  {
   "cell_type": "code",
   "execution_count": 12,
   "metadata": {},
   "outputs": [
    {
     "name": "stdout",
     "output_type": "stream",
     "text": [
      "WARNING:tensorflow:From C:\\Users\\harla\\Anaconda3\\lib\\site-packages\\tensorflow\\python\\ops\\math_ops.py:3066: to_int32 (from tensorflow.python.ops.math_ops) is deprecated and will be removed in a future version.\n",
      "Instructions for updating:\n",
      "Use tf.cast instead.\n",
      "Train on 864 samples, validate on 216 samples\n",
      "Epoch 1/20\n",
      "864/864 [==============================] - 123s 143ms/step - loss: 2.6543 - acc: 0.3530 - val_loss: 1.0845 - val_acc: 0.5787\n",
      "Epoch 2/20\n",
      "864/864 [==============================] - 109s 126ms/step - loss: 0.8272 - acc: 0.6921 - val_loss: 0.7353 - val_acc: 0.7685\n",
      "Epoch 3/20\n",
      "864/864 [==============================] - 115s 133ms/step - loss: 0.5125 - acc: 0.8264 - val_loss: 0.9048 - val_acc: 0.7685\n",
      "Epoch 4/20\n",
      "864/864 [==============================] - 110s 128ms/step - loss: 0.4077 - acc: 0.8715 - val_loss: 0.4725 - val_acc: 0.8796\n",
      "Epoch 5/20\n",
      "864/864 [==============================] - 107s 124ms/step - loss: 0.1733 - acc: 0.9421 - val_loss: 0.7643 - val_acc: 0.8102\n",
      "Epoch 6/20\n",
      "864/864 [==============================] - 110s 127ms/step - loss: 0.2156 - acc: 0.9410 - val_loss: 0.7101 - val_acc: 0.8611\n",
      "Epoch 7/20\n",
      "864/864 [==============================] - 108s 125ms/step - loss: 0.3576 - acc: 0.9028 - val_loss: 0.4730 - val_acc: 0.8657\n",
      "Epoch 8/20\n",
      "864/864 [==============================] - 110s 127ms/step - loss: 0.2197 - acc: 0.9329 - val_loss: 1.2116 - val_acc: 0.7685\n",
      "Epoch 9/20\n",
      "864/864 [==============================] - 109s 126ms/step - loss: 0.1440 - acc: 0.9560 - val_loss: 0.5775 - val_acc: 0.8796\n",
      "Epoch 10/20\n",
      "864/864 [==============================] - 109s 126ms/step - loss: 0.0825 - acc: 0.9711 - val_loss: 0.6186 - val_acc: 0.8565\n",
      "Epoch 11/20\n",
      "864/864 [==============================] - 110s 127ms/step - loss: 0.1095 - acc: 0.9676 - val_loss: 0.3167 - val_acc: 0.9120\n",
      "Epoch 12/20\n",
      "864/864 [==============================] - 109s 127ms/step - loss: 0.0390 - acc: 0.9850 - val_loss: 0.2942 - val_acc: 0.9444\n",
      "Epoch 13/20\n",
      "864/864 [==============================] - 109s 126ms/step - loss: 0.0442 - acc: 0.9850 - val_loss: 0.3787 - val_acc: 0.9398\n",
      "Epoch 14/20\n",
      "864/864 [==============================] - 110s 128ms/step - loss: 0.1332 - acc: 0.9664 - val_loss: 0.9644 - val_acc: 0.8380\n",
      "Epoch 15/20\n",
      "864/864 [==============================] - 110s 127ms/step - loss: 0.1020 - acc: 0.9699 - val_loss: 0.4138 - val_acc: 0.9028\n",
      "Epoch 16/20\n",
      "864/864 [==============================] - 109s 126ms/step - loss: 0.1228 - acc: 0.9595 - val_loss: 0.5701 - val_acc: 0.9120\n",
      "Epoch 17/20\n",
      "864/864 [==============================] - 110s 127ms/step - loss: 0.2003 - acc: 0.9456 - val_loss: 0.4905 - val_acc: 0.9074\n",
      "Epoch 18/20\n",
      "864/864 [==============================] - 108s 125ms/step - loss: 0.0824 - acc: 0.9722 - val_loss: 0.3162 - val_acc: 0.9306\n",
      "Epoch 19/20\n",
      "864/864 [==============================] - 110s 128ms/step - loss: 0.0325 - acc: 0.9873 - val_loss: 0.4598 - val_acc: 0.9074\n",
      "Epoch 20/20\n",
      "864/864 [==============================] - 113s 131ms/step - loss: 0.0572 - acc: 0.9884 - val_loss: 0.4124 - val_acc: 0.9028\n"
     ]
    },
    {
     "data": {
      "text/plain": [
       "<keras.callbacks.History at 0x2631b2a9a58>"
      ]
     },
     "execution_count": 12,
     "metadata": {},
     "output_type": "execute_result"
    }
   ],
   "source": [
    "model.fit(x = x_train, y = y_train, verbose = 1, validation_split = 0.2, epochs = 20, batch_size = 32)"
   ]
  },
  {
   "cell_type": "code",
   "execution_count": 13,
   "metadata": {},
   "outputs": [
    {
     "name": "stdout",
     "output_type": "stream",
     "text": [
      "120/120 [==============================] - 2s 20ms/step\n"
     ]
    }
   ],
   "source": [
    "scores = model.evaluate(x_test,y_test)"
   ]
  },
  {
   "cell_type": "code",
   "execution_count": 14,
   "metadata": {
    "scrolled": true
   },
   "outputs": [
    {
     "name": "stdout",
     "output_type": "stream",
     "text": [
      "Loss on test set is:  0.2492149790128072\n",
      "Accuracy on test set is:  0.949999996026357\n"
     ]
    }
   ],
   "source": [
    "print('Loss on test set is: ', scores[0])\n",
    "print('Accuracy on test set is: ', scores[1])"
   ]
  },
  {
   "cell_type": "code",
   "execution_count": 28,
   "metadata": {},
   "outputs": [
    {
     "name": "stdout",
     "output_type": "stream",
     "text": [
      "[[0.00470322 0.73543936 0.1079357  0.03907827 0.10078382 0.01205959]]\n",
      "predicted sign is: 1\n",
      "actual sign is:  [1]\n"
     ]
    },
    {
     "data": {
      "image/png": "[encoded data removed]",
      "text/plain": [
       "<Figure size 432x288 with 1 Axes>"
      ]
     },
     "metadata": {
      "needs_background": "light"
     },
     "output_type": "display_data"
    }
   ],
   "source": [
    "test_sample = 9\n",
    "x = x_test[test_sample,:,:,:]\n",
    "imshow(x)\n",
    "x = np.expand_dims(x,axis = 0)\n",
    "print(model.predict(x))\n",
    "print('predicted sign is:', np.argmax(model.predict(x)))\n",
    "print('actual sign is: ', y_test[test_sample])"
   ]
  }
 ],
 "metadata": {
  "kernelspec": {
   "display_name": "Python 3",
   "language": "python",
   "name": "python3"
  },
  "language_info": {
   "codemirror_mode": {
    "name": "ipython",
    "version": 3
   },
   "file_extension": ".py",
   "mimetype": "text/x-python",
   "name": "python",
   "nbconvert_exporter": "python",
   "pygments_lexer": "ipython3",
   "version": "3.7.3"
  }
 },
 "nbformat": 4,
 "nbformat_minor": 2
}
